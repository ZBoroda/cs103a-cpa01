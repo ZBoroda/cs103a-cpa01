{
 "cells": [
  {
   "cell_type": "markdown",
   "id": "09a24570",
   "metadata": {},
   "source": [
    "# CPA 01 Zachary Boroda \n",
    "## Analyzing Electricty Generation Data \n",
    "\n",
    "Data source: https://www.eia.gov/electricity/data/state/annual_generation_state.xls \n",
    "\n",
    "This is a data set that for each state every year over the past 30 years shows the Megawatthours of electricity produced seperated by source. The sources are listed by type of energy and type of producer, but I will be focusing on the 'Total Electric Power Industry' numbers.\n",
    "\n",
    "I converted this data to a CSV file \n",
    "\n",
    "Two questions to answer: \n",
    "1) Which state produces the most clean energy in 2020? How about in 1990? Has this state changed? \n",
    "\n",
    "2) Which state is the most improved? ie. had the greatest increase in renewable enegery production\n"
   ]
  },
  {
   "cell_type": "code",
   "execution_count": 1,
   "id": "35d0c6cf",
   "metadata": {},
   "outputs": [],
   "source": [
    "import pandas as pd\n",
    "import numpy as np"
   ]
  },
  {
   "cell_type": "code",
   "execution_count": null,
   "id": "38dcd1b7",
   "metadata": {},
   "outputs": [],
   "source": []
  }
 ],
 "metadata": {
  "kernelspec": {
   "display_name": "Python 3 (ipykernel)",
   "language": "python",
   "name": "python3"
  },
  "language_info": {
   "codemirror_mode": {
    "name": "ipython",
    "version": 3
   },
   "file_extension": ".py",
   "mimetype": "text/x-python",
   "name": "python",
   "nbconvert_exporter": "python",
   "pygments_lexer": "ipython3",
   "version": "3.9.7"
  }
 },
 "nbformat": 4,
 "nbformat_minor": 5
}
